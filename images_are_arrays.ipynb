{
 "cells": [
  {
   "cell_type": "code",
   "execution_count": null,
   "metadata": {},
   "outputs": [],
   "source": [
    "%matplotlib inline"
   ]
  },
  {
   "cell_type": "markdown",
   "metadata": {},
   "source": [
    "# Images are numpy arrays"
   ]
  },
  {
   "cell_type": "markdown",
   "metadata": {},
   "source": [
    "Images are represented in ``scikit-image`` using standard ``numpy`` arrays.  This allows maximum inter-operability with other libraries in the scientific Python ecosystem, such as ``matplotlib`` and ``scipy``.\n",
    "\n",
    "Let's see how to build a grayscale image as a 2D array:"
   ]
  },
  {
   "cell_type": "code",
   "execution_count": null,
   "metadata": {},
   "outputs": [],
   "source": [
    "import numpy as np\n",
    "from matplotlib import pyplot as plt\n",
    "\n",
    "random_image = np.random.random([500, 500])\n",
    "\n",
    "plt.imshow(random_image, cmap='gray');"
   ]
  },
  {
   "cell_type": "code",
   "execution_count": null,
   "metadata": {},
   "outputs": [],
   "source": [
    "random_image.dtype"
   ]
  },
  {
   "cell_type": "markdown",
   "metadata": {},
   "source": [
    "The same holds for \"real-world\" images:"
   ]
  },
  {
   "cell_type": "code",
   "execution_count": null,
   "metadata": {},
   "outputs": [],
   "source": [
    "from skimage import data\n",
    "\n",
    "coins = data.coins()\n",
    "\n",
    "print(type(coins), coins.dtype, coins.shape)\n",
    "plt.imshow(coins, cmap='gray');"
   ]
  },
  {
   "cell_type": "markdown",
   "metadata": {},
   "source": [
    "A color image is a 3D array, where the last dimension has size 3 and represents the red, green, and blue channels:"
   ]
  },
  {
   "cell_type": "code",
   "execution_count": null,
   "metadata": {},
   "outputs": [],
   "source": [
    "cat = data.chelsea()\n",
    "print(\"Shape:\", cat.shape)\n",
    "print(\"Values min/max:\", cat.min(), cat.max())\n",
    "\n",
    "plt.imshow(cat);"
   ]
  },
  {
   "cell_type": "markdown",
   "metadata": {},
   "source": [
    "These are *just numpy arrays*. Making a red square is easy using just array slicing and manipulation:"
   ]
  },
  {
   "cell_type": "code",
   "execution_count": null,
   "metadata": {},
   "outputs": [],
   "source": [
    "cat[10:110, 10:110, :] = [255, 0, 0]  # [red, green, blue]\n",
    "plt.imshow(cat);"
   ]
  },
  {
   "cell_type": "code",
   "execution_count": null,
   "metadata": {},
   "outputs": [],
   "source": [
    "plt.imshow(cat[:, :, 1], cmap='gray')"
   ]
  },
  {
   "cell_type": "markdown",
   "metadata": {},
   "source": [
    "Images can also include transparent regions by adding a 4th dimension, called an *alpha layer*."
   ]
  },
  {
   "cell_type": "markdown",
   "metadata": {},
   "source": [
    "### Other shapes, and their meanings\n",
    "\n",
    "|Image type|Coordinates|\n",
    "|:---|:---|\n",
    "|2D grayscale|(row, column)|\n",
    "|2D multichannel|(row, column, channel)|\n",
    "|3D grayscale|(plane, row, column)|\n",
    "|3D multichannel|(plane, row, column, channel)|"
   ]
  },
  {
   "cell_type": "markdown",
   "metadata": {},
   "source": [
    "## Displaying images using matplotlib"
   ]
  },
  {
   "cell_type": "code",
   "execution_count": null,
   "metadata": {},
   "outputs": [],
   "source": [
    "from skimage import data\n",
    "\n",
    "img0 = data.chelsea()\n",
    "img1 = data.rocket()"
   ]
  },
  {
   "cell_type": "code",
   "execution_count": null,
   "metadata": {},
   "outputs": [],
   "source": [
    "f, (ax0, ax1) = plt.subplots(nrows=1, ncols=2)"
   ]
  },
  {
   "cell_type": "code",
   "execution_count": null,
   "metadata": {},
   "outputs": [],
   "source": [
    "f, (ax0, ax1) = plt.subplots(1, 2, figsize=(20, 10))\n",
    "\n",
    "ax0.imshow(img0)\n",
    "ax0.set_title('Cat')\n",
    "\n",
    "ax1.imshow(img1)\n",
    "ax1.set_title('Rocket')\n",
    "ax1.set_xlabel(r'Launching position $\\alpha=320$')\n",
    "\n",
    "ax1.vlines([202, 300], 0, img1.shape[0], color='red', linewidth=3, label='Side tower position')\n",
    "ax1.plot([168, 190, 200], [400, 200, 300], color='lightgreen', linestyle='--', label='Side angle')\n",
    "\n",
    "ax1.legend();"
   ]
  },
  {
   "cell_type": "code",
   "execution_count": null,
   "metadata": {},
   "outputs": [],
   "source": [
    "f, (ax0, ax1) = plt.subplots(nrows=1, ncols=2, sharey=True)\n",
    "\n",
    "t = np.linspace(-1, 1, 500)\n",
    "p0 = np.polynomial.Polynomial(np.random.random(15) - 0.5)\n",
    "p1 = np.polynomial.Polynomial(np.random.random(15) - 0.5)\n",
    "\n",
    "ax0.plot(t, p0(t))\n",
    "ax0.set_xlabel('t')\n",
    "ax0.set_ylabel(r'$\\rho(t)$')\n",
    "\n",
    "ax1.plot(t, p1(t), label='Second Poly')\n",
    "ax1.legend()\n",
    "ax1.grid()\n",
    "ax1.set_title('Axis Title')\n",
    "\n",
    "f.suptitle('Shared Y-axis Plot', fontsize=16);"
   ]
  },
  {
   "cell_type": "markdown",
   "metadata": {},
   "source": [
    "Also see the [Matplotlib gallery](https://matplotlib.org/gallery/index.html#images-contours-and-fields) and [pyplot API](https://matplotlib.org/api/pyplot_summary.html).  The gallery has many examples; choose something close to what you want and customize."
   ]
  },
  {
   "cell_type": "code",
   "execution_count": null,
   "metadata": {},
   "outputs": [],
   "source": [
    "x = np.random.normal(0, 1, size=512)\n",
    "\n",
    "plt.hist(x, bins='auto');  # Bin size determined automatically by NumPy, see\n",
    "                           # np.histogram"
   ]
  },
  {
   "cell_type": "markdown",
   "metadata": {},
   "source": [
    "## Data types and image values\n",
    "\n",
    "In literature, one finds different conventions for representing image values:\n",
    "\n",
    "```\n",
    "  0 - 255   where  0 is black, 255 is white\n",
    "  0 - 1     where  0 is black, 1 is white\n",
    "```\n",
    "\n",
    "``scikit-image`` supports both conventions--the choice is determined by the\n",
    "data-type of the array.\n",
    "\n",
    "E.g., here, I generate two valid images:"
   ]
  },
  {
   "cell_type": "code",
   "execution_count": null,
   "metadata": {},
   "outputs": [],
   "source": [
    "linear0 = np.linspace(0, 1, 2500).reshape((50, 50))\n",
    "linear1 = np.linspace(0, 255, 2500).reshape((50, 50)).astype(np.uint8)\n",
    "\n",
    "print(\"Linear0:\", linear0.dtype, linear0.min(), linear0.max())\n",
    "print(\"Linear1:\", linear1.dtype, linear1.min(), linear1.max())\n",
    "\n",
    "fig, (ax0, ax1) = plt.subplots(1, 2)\n",
    "ax0.imshow(linear0, cmap='gray')\n",
    "ax1.imshow(linear1, cmap='gray');"
   ]
  },
  {
   "cell_type": "markdown",
   "metadata": {},
   "source": [
    "The library is designed in such a way that any data-type is allowed as input,\n",
    "as long as the range is correct (0-1 for floating point images, 0-255 for unsigned bytes,\n",
    "0-65535 for unsigned 16-bit integers).\n",
    "\n",
    "This is achieved through the use of a few utility functions, such as ``img_as_float`` and ``img_as_ubyte``:"
   ]
  },
  {
   "cell_type": "code",
   "execution_count": null,
   "metadata": {},
   "outputs": [],
   "source": [
    "from skimage import img_as_float, img_as_ubyte\n",
    "\n",
    "image = data.chelsea()\n",
    "\n",
    "image_float = img_as_float(image)\n",
    "image_ubyte = img_as_ubyte(image)\n",
    "\n",
    "print(\"type, min, max:\", image_float.dtype, image_float.min(), image_float.max())\n",
    "print(\"type, min, max:\", image_ubyte.dtype, image_ubyte.min(), image_ubyte.max())\n",
    "\n",
    "print(\"231/255 =\", 231/255.)"
   ]
  },
  {
   "cell_type": "markdown",
   "metadata": {},
   "source": [
    "Your code would then typically look like this:\n",
    "\n",
    "```python\n",
    "def my_function(any_image):\n",
    "   float_image = img_as_float(any_image)\n",
    "   # Proceed, knowing image is in [0, 1]\n",
    "```\n",
    "\n",
    "We recommend using the floating point representation, given that\n",
    "``scikit-image`` mostly uses that format internally."
   ]
  },
  {
   "cell_type": "markdown",
   "metadata": {},
   "source": [
    "## Image I/O\n",
    "\n",
    "Mostly, we won't be using input images from the scikit-image example data sets.  Those images are typically stored in JPEG or PNG format.  Since scikit-image operates on NumPy arrays, *any* image reader library that provides arrays will do.  Options include matplotlib, pillow, imageio, imread, etc.\n",
    "\n",
    "scikit-image conveniently wraps many of these in the `io` submodule, and will use whatever option is available:"
   ]
  },
  {
   "cell_type": "code",
   "execution_count": null,
   "metadata": {},
   "outputs": [],
   "source": [
    "from skimage import io\n",
    "\n",
    "image = io.imread('skimage/balloon.jpg')\n",
    "\n",
    "print(type(image))\n",
    "print(image.dtype)\n",
    "print(image.min(), image.max())\n",
    "plt.imshow(image);"
   ]
  },
  {
   "cell_type": "markdown",
   "metadata": {},
   "source": [
    "We also have the ability to load multiple images, or multi-layer TIFF images:"
   ]
  },
  {
   "cell_type": "code",
   "execution_count": null,
   "metadata": {},
   "outputs": [],
   "source": [
    "ic = io.ImageCollection('skimage/*.png:skimage/*.jpg')\n",
    "\n",
    "print('Type:', type(ic))\n",
    "\n",
    "ic.files"
   ]
  },
  {
   "cell_type": "code",
   "execution_count": null,
   "metadata": {},
   "outputs": [],
   "source": [
    "x = ['hello', 'there', 'world', 1]\n",
    "\n",
    "for n, item in enumerate(x):\n",
    "    print(n, item)"
   ]
  },
  {
   "cell_type": "code",
   "execution_count": null,
   "metadata": {},
   "outputs": [],
   "source": [
    "f, axes = plt.subplots(nrows=2, ncols=len(ic) // 2, figsize=(8, 4))\n",
    "\n",
    "for i, image in enumerate(ic):\n",
    "    axes.flat[i].imshow(image, cmap='gray')\n",
    "    axes.flat[i].axis('off')\n",
    "    \n",
    "plt.tight_layout()"
   ]
  },
  {
   "cell_type": "code",
   "execution_count": null,
   "metadata": {},
   "outputs": [],
   "source": [
    "plt.imshow(ic[0])"
   ]
  },
  {
   "cell_type": "code",
   "execution_count": null,
   "metadata": {},
   "outputs": [],
   "source": [
    "%timeit 1 + 1"
   ]
  },
  {
   "cell_type": "code",
   "execution_count": null,
   "metadata": {},
   "outputs": [],
   "source": [
    "%run /tmp/mypython.py"
   ]
  },
  {
   "cell_type": "markdown",
   "metadata": {},
   "source": [
    "## Exercise\n",
    "\n",
    "In the film industry, it is often necessary to impose actors on top of a rendered background.  To do that, the actors are filmed on a \"green screen\".  Here's an example shot (``images/greenscreen.jpg``):\n",
    "\n",
    "<img src=\"skimage/greenscreen.jpg\" width=\"300px\"/>\n",
    "\n",
    "Say we'd like to help these folks travel into a forest (``skimage/forest.jpg``):\n",
    "\n",
    "<img src=\"skimage/forest.jpg\" width=\"300px\"/>\n",
    "\n",
    "Can you transplant the foreground of the greenscreen onto the backdrop of the forest?"
   ]
  },
  {
   "cell_type": "code",
   "execution_count": null,
   "metadata": {},
   "outputs": [],
   "source": [
    "from skimage import io\n",
    "\n",
    "forest = io.imread('skimage/forest.jpg')\n",
    "people = io.imread('skimage/greenscreen.jpg')"
   ]
  },
  {
   "cell_type": "markdown",
   "metadata": {},
   "source": [
    "## Exercise\n",
    "\n",
    "Complete the scatter plot exercise at http://www.scipy-lectures.org/intro/matplotlib/index.html#scatter-plots"
   ]
  }
 ],
 "metadata": {
  "kernelspec": {
   "display_name": "Python 3",
   "language": "python",
   "name": "python3"
  },
  "language_info": {
   "codemirror_mode": {
    "name": "ipython",
    "version": 3
   },
   "file_extension": ".py",
   "mimetype": "text/x-python",
   "name": "python",
   "nbconvert_exporter": "python",
   "pygments_lexer": "ipython3",
   "version": "3.6.6rc1"
  }
 },
 "nbformat": 4,
 "nbformat_minor": 1
}
