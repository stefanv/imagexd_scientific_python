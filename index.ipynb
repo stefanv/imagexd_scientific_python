{
 "cells": [
  {
   "cell_type": "markdown",
   "metadata": {},
   "source": [
    "# ImageXD scientific Python & image processing tutorial"
   ]
  },
  {
   "cell_type": "markdown",
   "metadata": {},
   "source": [
    "## http://github.com/stefanv/imagexd_scientific_python"
   ]
  },
  {
   "cell_type": "markdown",
   "metadata": {},
   "source": [
    "Please refresh the lecture materials:"
   ]
  },
  {
   "cell_type": "code",
   "execution_count": null,
   "metadata": {},
   "outputs": [],
   "source": [
    "!git pull"
   ]
  },
  {
   "cell_type": "markdown",
   "metadata": {},
   "source": [
    "Now proceed to the required lecture:"
   ]
  },
  {
   "cell_type": "markdown",
   "metadata": {},
   "source": [
    "- **9:30–9:35**: Introduction\n",
    "- **9:35–10:10**: [NumPy](numpy/numpy.ipynb)\n",
    "- **10:10–10:30**: [Images are arrays & matplotlib](images_are_arrays.ipynb)\n",
    "- **10:30–10:50**: [SciPy](scipy.ipynb)\n",
    "- **10:50–11:30**: [scikit-image](skimage/0_introduction.ipynb)"
   ]
  },
  {
   "cell_type": "markdown",
   "metadata": {},
   "source": [
    "For further adventures in Scientific Python land:\n",
    "\n",
    "- https://scipy-lectures.org\n",
    "- https://github.com/elegant-scipy/elegant-scipy"
   ]
  },
  {
   "cell_type": "code",
   "execution_count": 3,
   "metadata": {},
   "outputs": [
    {
     "name": "stdout",
     "output_type": "stream",
     "text": [
      "[✓] scikit-image  0.14dev\n",
      "[✓] numpy         1.15.0.dev0+b9f9cd3\n",
      "[✓] scipy         1.1.0rc1\n",
      "[✓] matplotlib    2.2.0\n",
      "[✓] notebook      5.4.0\n",
      "[✓] scikit-learn  0.19.1\n"
     ]
    }
   ],
   "source": [
    "%run check_setup.py"
   ]
  }
 ],
 "metadata": {
  "kernelspec": {
   "display_name": "Python 3",
   "language": "python",
   "name": "python3"
  },
  "language_info": {
   "codemirror_mode": {
    "name": "ipython",
    "version": 3
   },
   "file_extension": ".py",
   "mimetype": "text/x-python",
   "name": "python",
   "nbconvert_exporter": "python",
   "pygments_lexer": "ipython3",
   "version": "3.6.3"
  }
 },
 "nbformat": 4,
 "nbformat_minor": 2
}
